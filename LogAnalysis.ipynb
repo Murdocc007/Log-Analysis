{
 "cells": [
  {
   "cell_type": "markdown",
   "metadata": {},
   "source": [
    "The log files that I used for this assignment are in the Apache Common Log Format (CLF). The log file entries produced in CLF will look something like this:\n",
    "127.0.0.1 - - [01/Aug/1995:00:00:01 -0400] \"GET /images/launch-logo.gif HTTP/1.0\" 200 1839\n",
    "\n",
    "\n",
    "Each part of the log is described below\n",
    "\n",
    "127.0.0.1- It is the IP address of the client\n",
    "[01/Aug/1995:00:00:01 -0400] - The day and time when the request was made\n",
    "\"GET /images/launch-logo.gif HTTP/1.0\"- The type of request made(GET or POST) and the url of the resource.\n",
    "200- The status of the request\n",
    "1839- The size of the object returned to the client not including the headers"
   ]
  },
  {
   "cell_type": "code",
   "execution_count": 5,
   "metadata": {
    "collapsed": true
   },
   "outputs": [],
   "source": [
    "import re\n",
    "import datetime\n",
    "\n",
    "from pyspark.sql import Row\n",
    "\n",
    "# A regular expression pattern to extract fields from the log line\n",
    "APACHE_ACCESS_LOG_PATTERN = '^(\\S+) (\\S+) (\\S+) \\[([\\w:/]+\\s[+\\-]\\d{4})\\] \"(\\S+) (\\S+)\\s*(\\S*)\" (\\d{3}) (\\S+)'\n",
    "\n",
    "month_map = {'Jan': 1, 'Feb': 2, 'Mar':3, 'Apr':4, 'May':5, 'Jun':6, 'Jul':7,\n",
    "    'Aug':8,  'Sep': 9, 'Oct':10, 'Nov': 11, 'Dec': 12}\n",
    "\n",
    "def parse_apache_time(s):\n",
    "    \"\"\" Convert Apache time format into a Python datetime object\n",
    "    Args:\n",
    "        s (str): date and time in Apache time format\n",
    "    Returns:\n",
    "        datetime: datetime object (ignore timezone for now)\n",
    "    \"\"\"\n",
    "    return datetime.datetime(int(s[7:11]),\n",
    "                             month_map[s[3:6]],\n",
    "                             int(s[0:2]),\n",
    "                             int(s[12:14]),\n",
    "                             int(s[15:17]),\n",
    "                             int(s[18:20]))\n",
    "\n",
    "\n",
    "def parseApacheLogLine(logline):\n",
    "    \"\"\" Parse a line in the Apache Common Log format\n",
    "    Args:\n",
    "        logline (str): a line of text in the Apache Common Log format\n",
    "    Returns:\n",
    "        tuple: either a dictionary containing the parts of the Apache Access Log and 1,\n",
    "               or the original invalid log line and 0\n",
    "    \"\"\"\n",
    "    match = re.search(APACHE_ACCESS_LOG_PATTERN, logline)\n",
    "    if match is None:\n",
    "        return (logline, 0)\n",
    "    size_field = match.group(9)\n",
    "    if size_field == '-':\n",
    "        size = long(0)\n",
    "    else:\n",
    "        size = long(match.group(9))\n",
    "    return (Row(\n",
    "        host          = match.group(1),\n",
    "        client_identd = match.group(2),\n",
    "        user_id       = match.group(3),\n",
    "        date_time     = parse_apache_time(match.group(4)),\n",
    "        method        = match.group(5),\n",
    "        endpoint      = match.group(6),\n",
    "        protocol      = match.group(7),\n",
    "        response_code = int(match.group(8)),\n",
    "        content_size  = size\n",
    "    ), 1)"
   ]
  },
  {
   "cell_type": "markdown",
   "metadata": {},
   "source": [
    "Creating the initial RDDs"
   ]
  },
  {
   "cell_type": "markdown",
   "metadata": {},
   "source": [
    "Creating a function to parse the log lines. We'll be caching those RDD in memory throughout this notebook. "
   ]
  },
  {
   "cell_type": "code",
   "execution_count": 15,
   "metadata": {
    "collapsed": false
   },
   "outputs": [
    {
     "name": "stdout",
     "output_type": "stream",
     "text": [
      "1891715\n",
      "Read 1891715 lines, parsed 1890851 file sucessfully, failed to parse 864 \n"
     ]
    }
   ],
   "source": [
    "import sys\n",
    "import os\n",
    "\n",
    "logFile = os.path.abspath('/home/aditya/Desktop/Aditya/bigdata/pyspark/access_log_Jul95')\n",
    "\n",
    "def parseLogs():\n",
    "    \"\"\" Read and parse log file \"\"\"\n",
    "    parsedLogs=sc.textFile(logFile).map(parseApacheLogLine).cache()\n",
    "    accessLogs=parsedLogs.filter(lambda s:s[1]==1).map(lambda s:s[0]).cache()\n",
    "    failedLogs=parsedLogs.filter(lambda s:s[1]==0).map(lambda s:s[0]).cache()\n",
    "    \n",
    "    print parsedLogs.count()\n",
    "    print 'Read %d lines, parsed %d file sucessfully, failed to parse %d ' % (parsedLogs.count(),accessLogs.count()\n",
    "                                                                              ,failedLogs.count())\n",
    "    return parsedLogs,accessLogs,failedLogs\n",
    "\n",
    "\n",
    "parsed_logs,access_logs,failed_logs=parseLogs()"
   ]
  },
  {
   "cell_type": "markdown",
   "metadata": {
    "collapsed": true
   },
   "source": [
    "Calculate statistics based on the content size."
   ]
  },
  {
   "cell_type": "code",
   "execution_count": 16,
   "metadata": {
    "collapsed": false
   },
   "outputs": [
    {
     "name": "stdout",
     "output_type": "stream",
     "text": [
      "Content Size Avg: 20464, Min: 0, Max: 6823936\n"
     ]
    }
   ],
   "source": [
    "content_sizes = access_logs.map(lambda log: log.content_size).cache()\n",
    "print 'Content Size Avg: %i, Min: %i, Max: %s' % (\n",
    "    content_sizes.reduce(lambda a, b : a + b) / content_sizes.count(),\n",
    "    content_sizes.min(),\n",
    "    content_sizes.max())"
   ]
  },
  {
   "cell_type": "markdown",
   "metadata": {},
   "source": [
    "Response code Analysis. Counting the number of response code for each type"
   ]
  },
  {
   "cell_type": "code",
   "execution_count": 21,
   "metadata": {
    "collapsed": false
   },
   "outputs": [
    {
     "name": "stdout",
     "output_type": "stream",
     "text": [
      "[(302, 46569), (304, 132626), (500, 62), (200, 1700743), (403, 54), (501, 14), (404, 10783)]\n"
     ]
    }
   ],
   "source": [
    "responseCodeCount=access_logs.map(lambda log:(log.response_code,1)).reduceByKey(lambda a,b:a+b).cache()\n",
    "responseCodeToCountList = responseCodeCount.take(100)\n",
    "\n",
    "print responseCodeToCountList"
   ]
  },
  {
   "cell_type": "markdown",
   "metadata": {},
   "source": [
    "Now lets visualize the results of the response codes using matplotlib"
   ]
  },
  {
   "cell_type": "code",
   "execution_count": 23,
   "metadata": {
    "collapsed": false
   },
   "outputs": [
    {
     "name": "stdout",
     "output_type": "stream",
     "text": [
      "[302, 304, 500, 200, 403, 501, 404]\n",
      "[0.024628593157260938, 0.07014090480952756, 3.278946886877919e-05, 0.8994590266499053, 2.8558569659904456e-05, 7.404073615530785e-06, 0.005702723271162033]\n"
     ]
    }
   ],
   "source": [
    "labels = responseCodeCount.map(lambda (x, y): x).collect()\n",
    "print labels\n",
    "count = access_logs.count()\n",
    "fracs = responseCodeCount.map(lambda (x, y): (float(y) / count)).collect()\n",
    "print fracs"
   ]
  },
  {
   "cell_type": "code",
   "execution_count": 32,
   "metadata": {
    "collapsed": false
   },
   "outputs": [
    {
     "data": {
      "image/png": "[encoded data removed]",
      "text/plain": [
       "<matplotlib.figure.Figure at 0x7f45810a0650>"
      ]
     },
     "metadata": {},
     "output_type": "display_data"
    }
   ],
   "source": [
    "%matplotlib inline\n",
    "import matplotlib.pyplot as plt\n",
    "\n",
    "\n",
    "def pie_pct_format(value):\n",
    "    \"\"\" Determine the appropriate format string for the pie chart percentage label\n",
    "    Args:\n",
    "        value: value of the pie slice\n",
    "    Returns:\n",
    "        str: formated string label; if the slice is too small to fit, returns an empty string for label\n",
    "    \"\"\"\n",
    "    return '' if value < 7 else '%.0f%%' % value\n",
    "\n",
    "fig = plt.figure(figsize=(4.5, 4.5), facecolor='white', edgecolor='white')\n",
    "colors = ['yellowgreen', 'lightskyblue', 'gold', 'purple', 'lightcoral', 'yellow', 'black']\n",
    "explode = (0.05, 0.05, 0.1, 0, 0, 0, 0)\n",
    "patches, texts, autotexts = plt.pie(fracs, labels=labels, colors=colors,\n",
    "                                    explode=explode, autopct=pie_pct_format,\n",
    "                                    shadow=False,  startangle=125)\n",
    "for text, autotext in zip(texts, autotexts):\n",
    "    if autotext.get_text() == '':\n",
    "        text.set_text('')  # If the slice is small to fit, don't show a text label\n",
    "plt.legend(labels, loc=(0.80, -0.1), shadow=True)\n",
    "pass"
   ]
  },
  {
   "cell_type": "markdown",
   "metadata": {},
   "source": [
    "Let us get the most frequent hosts"
   ]
  },
  {
   "cell_type": "code",
   "execution_count": 25,
   "metadata": {
    "collapsed": false
   },
   "outputs": [
    {
     "name": "stdout",
     "output_type": "stream",
     "text": [
      "Any 20 hosts that have accessed more then 10 times: [u'calvert.psc.rochester.edu', u'sl137.active.ch', u'slip104-134.mn.us.ibm.net', u'corning.cat.rpi.edu', u'sjackson.seanet.com', u'194.20.34.29', u'mischka.csn.tu-chemnitz.de', u'anp10.intercon.net', u'philly13.voicenet.com', u'128.158.55.143', u'pm2-01.magicnet.net', u'198.70.210.51', u'user.40.169.dcccd.edu', u'ginec01.unimo.it', u'gs1.cs.ttu.edu', u'wilma.netinfo.com.au', u'165.164.140.189', u'jabrown.remote.ualberta.ca', u'dialup96-033.swipnet.se', u'pckcb1.cad.ksc.nasa.gov']\n"
     ]
    }
   ],
   "source": [
    "# Any hosts that has accessed the server more than 10 times.\n",
    "hostCountPairTuple = access_logs.map(lambda log: (log.host, 1))\n",
    "\n",
    "hostSum = hostCountPairTuple.reduceByKey(lambda a, b : a + b)\n",
    "\n",
    "hostMoreThan10 = hostSum.filter(lambda s: s[1] > 10)\n",
    "\n",
    "hostsPick20 = (hostMoreThan10\n",
    "               .map(lambda s: s[0])\n",
    "               .take(20))\n",
    "\n",
    "print 'Any 20 hosts that have accessed more then 10 times: %s' % hostsPick20"
   ]
  },
  {
   "cell_type": "markdown",
   "metadata": {},
   "source": [
    "Top 10 error endpoints"
   ]
  },
  {
   "cell_type": "code",
   "execution_count": 27,
   "metadata": {
    "collapsed": false
   },
   "outputs": [
    {
     "name": "stdout",
     "output_type": "stream",
     "text": [
      "Top Ten failed URLs: [(u'/images/NASA-logosmall.gif', 21010), (u'/images/KSC-logosmall.gif', 12435), (u'/images/MOSAIC-logosmall.gif', 6628), (u'/images/USA-logosmall.gif', 6577), (u'/images/WORLD-logosmall.gif', 6413), (u'/images/ksclogo-medium.gif', 5837), (u'/images/launch-logo.gif', 4628), (u'/shuttle/countdown/liftoff.html', 3509), (u'/shuttle/countdown/', 3345), (u'/shuttle/countdown/images/cdtclock.gif', 3251)]\n"
     ]
    }
   ],
   "source": [
    "not200 = access_logs.filter(lambda log:log.response_code!=200)\n",
    "\n",
    "endpointCountPairTuple = not200.map(lambda log: (log.endpoint,1))\n",
    "\n",
    "endpointSum = endpointCountPairTuple.reduceByKey(lambda a,b: a+b)\n",
    "\n",
    "topTenErrURLs = endpointSum.takeOrdered(10,lambda(x,v):-v)\n",
    "print 'Top Ten failed URLs: %s' % topTenErrURLs"
   ]
  },
  {
   "cell_type": "markdown",
   "metadata": {},
   "source": [
    "Let us get the number of unique hosts as well "
   ]
  },
  {
   "cell_type": "code",
   "execution_count": 31,
   "metadata": {
    "collapsed": false
   },
   "outputs": [
    {
     "name": "stdout",
     "output_type": "stream",
     "text": [
      "Total unique hosts are 81969\n"
     ]
    }
   ],
   "source": [
    "hosts=access_logs.map(lambda log:(log.host,1))\n",
    "uniqueHosts=hosts.reduceByKey(lambda a,b:a+b)\n",
    "print 'Total unique hosts are %d' % (uniqueHosts.count())"
   ]
  },
  {
   "cell_type": "markdown",
   "metadata": {},
   "source": [
    "Let us now count the number of unique hosts on each given day"
   ]
  },
  {
   "cell_type": "code",
   "execution_count": 37,
   "metadata": {
    "collapsed": false
   },
   "outputs": [
    {
     "name": "stdout",
     "output_type": "stream",
     "text": [
      "Unique hosts per day: [(1, 5192), (2, 4859), (3, 7335), (4, 5522), (5, 7382), (6, 7819), (7, 6473), (8, 2897), (9, 2553), (10, 4464), (11, 4924), (12, 5345), (13, 6951), (14, 5296), (15, 3115), (16, 3012), (17, 4942), (18, 4522), (19, 4918), (20, 4727), (21, 4339), (22, 2575), (23, 2635), (24, 4297), (25, 4376), (26, 4296), (27, 4368), (28, 2175)]\n"
     ]
    }
   ],
   "source": [
    "dayToHostPairTuple=access_logs.map(lambda log:(log.date_time.day,log.host))\n",
    "\n",
    "dayGroupedHosts=dayToHostPairTuple.groupByKey()\n",
    "\n",
    "dayHostCount = dayGroupedHosts.map(lambda (k, v): (k, set(v)))\n",
    "\n",
    "dayHostCount=dayHostCount.map(lambda (x,v):(x,len(v)))\n",
    "\n",
    "\n",
    "dailyHosts = (dayHostCount.sortByKey().cache())\n",
    "\n",
    "dailyHostsList = dailyHosts.take(30)\n",
    "print 'Unique hosts per day: %s' % dailyHostsList"
   ]
  },
  {
   "cell_type": "markdown",
   "metadata": {
    "collapsed": true
   },
   "source": [
    "Average number of daily requests"
   ]
  },
  {
   "cell_type": "code",
   "execution_count": 38,
   "metadata": {
    "collapsed": false
   },
   "outputs": [
    {
     "name": "stdout",
     "output_type": "stream",
     "text": [
      "Average number of daily requests per Hosts is [(1, 12), (2, 12), (3, 12), (4, 12), (5, 12), (6, 12), (7, 13), (8, 13), (9, 13), (10, 16), (11, 16), (12, 17), (13, 19), (14, 15), (15, 14), (16, 15), (17, 15), (18, 14), (19, 14), (20, 14), (21, 14), (22, 13), (23, 14), (24, 14), (25, 14), (26, 13), (27, 14), (28, 12)]\n"
     ]
    }
   ],
   "source": [
    "dayAndHostTuple = access_logs.map(lambda log:(log.date_time.day,log.host))\n",
    "\n",
    "groupedByDay = dayAndHostTuple.groupByKey()\n",
    "\n",
    "\n",
    "sortedByDay = groupedByDay.sortByKey()\n",
    "\n",
    "avgDailyReqPerHost=(sortedByDay.map(lambda (x,v):(x,len(v))).\n",
    " join(dailyHosts).sortByKey().\n",
    " map(lambda (k,(v1,v2)):(k,(v1/v2)))).cache()\n",
    "\n",
    "avgDailyReqPerHostList = avgDailyReqPerHost.take(30)\n",
    "print 'Average number of daily requests per Hosts is %s' % avgDailyReqPerHostList"
   ]
  },
  {
   "cell_type": "markdown",
   "metadata": {},
   "source": [
    "Visualizing daily request"
   ]
  },
  {
   "cell_type": "code",
   "execution_count": 39,
   "metadata": {
    "collapsed": false
   },
   "outputs": [
    {
     "data": {
      "image/png": "[encoded data removed]",
      "text/plain": [
       "<matplotlib.figure.Figure at 0x7f4588606110>"
      ]
     },
     "metadata": {},
     "output_type": "display_data"
    }
   ],
   "source": [
    "%matplotlib inline\n",
    "daysWithAvg = avgDailyReqPerHost.map(lambda (x,v):x).collect()\n",
    "avgs = avgDailyReqPerHost.map(lambda (x,v):v).collect()\n",
    "fig = plt.figure(figsize=(8,4.2), facecolor='white', edgecolor='white')\n",
    "plt.axis([0, max(daysWithAvg), 0, max(avgs)+2])\n",
    "plt.grid(b=True, which='major', axis='y')\n",
    "plt.xlabel('Day')\n",
    "plt.ylabel('Average')\n",
    "plt.plot(daysWithAvg, avgs)\n",
    "pass"
   ]
  },
  {
   "cell_type": "code",
   "execution_count": null,
   "metadata": {
    "collapsed": true
   },
   "outputs": [],
   "source": []
  }
 ],
 "metadata": {
  "kernelspec": {
   "display_name": "Python 2",
   "language": "python",
   "name": "python2"
  },
  "language_info": {
   "codemirror_mode": {
    "name": "ipython",
    "version": 2
   },
   "file_extension": ".py",
   "mimetype": "text/x-python",
   "name": "python",
   "nbconvert_exporter": "python",
   "pygments_lexer": "ipython2",
   "version": "2.7.6"
  }
 },
 "nbformat": 4,
 "nbformat_minor": 0
}
